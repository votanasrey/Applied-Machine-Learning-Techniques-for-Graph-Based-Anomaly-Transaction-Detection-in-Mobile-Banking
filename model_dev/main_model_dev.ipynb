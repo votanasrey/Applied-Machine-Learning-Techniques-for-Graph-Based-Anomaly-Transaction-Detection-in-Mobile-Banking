{
 "cells": [
  {
   "cell_type": "markdown",
   "id": "7da6e38e-6312-48d3-b907-be859228032c",
   "metadata": {},
   "source": [
    "# Anomaly Detection with GNN"
   ]
  },
  {
   "cell_type": "markdown",
   "id": "f9698c69-3193-430c-ae3f-1fcb80796004",
   "metadata": {},
   "source": [
    "### Import Dependencies"
   ]
  },
  {
   "cell_type": "code",
   "execution_count": 44,
   "id": "1159e63e-c43b-439b-8866-c2995a2bae96",
   "metadata": {},
   "outputs": [],
   "source": [
    "# additional lib \n",
    "import datetime\n",
    "import os\n",
    "from typing import Callable, Optional\n",
    "import pandas as pd\n",
    "import json\n",
    "\n",
    "# visualizations\n",
    "import matplotlib.pyplot as plt\n",
    "import matplotlib as matplot\n",
    "import seaborn as sns\n",
    "\n",
    "# modeling\n",
    "from sklearn import preprocessing\n",
    "import numpy as np\n",
    "from torch_geometric.data import (\n",
    "    Data,\n",
    "    InMemoryDataset\n",
    ")\n",
    "import torch\n",
    "import torch_geometric.transforms as T\n",
    "from torch_geometric.loader import NeighborLoader\n",
    "\n",
    "import warnings\n",
    "warnings.filterwarnings(\"ignore\")"
   ]
  },
  {
   "cell_type": "markdown",
   "id": "f41c3425-0c01-46f0-9725-0e0935c3b0be",
   "metadata": {},
   "source": [
    "### Load Dataset"
   ]
  },
  {
   "cell_type": "code",
   "execution_count": 45,
   "id": "7720c626-137b-4960-bcad-7d824e7c9b78",
   "metadata": {},
   "outputs": [],
   "source": [
    "pd.set_option('display.max_columns', None)\n",
    "path = './data/hi_small_trxns.csv'\n",
    "df = pd.read_csv(path)\n",
    "df.head(10)\n",
    "df = df.head(10)"
   ]
  },
  {
   "cell_type": "code",
   "execution_count": 46,
   "id": "427fafb0-7c06-4685-a637-8f7a955aa8d9",
   "metadata": {},
   "outputs": [],
   "source": [
    "###################################################################################################\n",
    "# Data Visualization Function - Helpers\n",
    "###################################################################################################\n",
    "\n",
    "def format_title_output(text):\n",
    "    return f\"{'++' * 50}\\n{text.upper()}\\n{'++' * 50}\\n\"\n",
    "\n",
    "\n",
    "#Null data with heatmap\n",
    "def create_null_data_heatmap(\n",
    "    title=None, \n",
    "    rotate='horizontal',\n",
    "    dataset=None\n",
    "):\n",
    "    try:\n",
    "        plt.figure(figsize=(15,5))\n",
    "        sns.heatmap(dataset.isnull(), cbar=False)\n",
    "        plt.title(title, fontweight='bold')\n",
    "        plt.xticks(rotation=rotate)\n",
    "        plt.show()\n",
    "    except Exception as error:\n",
    "        print(\"**\"*50)\n",
    "        print(\"ERROR TO CREATE THE HEATMAP: \", error)\n",
    "        print(\"**\"*50)\n",
    "\n",
    "\n",
    "#Null data with heatmap\n",
    "def create_correlation_heatmap(\n",
    "    title=None,\n",
    "    dataset=None\n",
    "):\n",
    "    try:\n",
    "        plt.figure(figsize=(15,8))\n",
    "        correlation = dataset.corr()\n",
    "        correlation = (correlation)\n",
    "        sns.heatmap(correlation, \n",
    "                    xticklabels=correlation.columns.values,\n",
    "                    yticklabels=correlation.columns.values, \n",
    "                    annot=True\n",
    "        )\n",
    "        plt.title(title, fontweight='bold')\n",
    "        plt.show()\n",
    "    except Exception as error:\n",
    "        print(\"**\"*50)\n",
    "        print(\"ERROR TO CREATE THE HEATMAP: \", error)\n",
    "        print(\"**\"*50)\n",
    "\n",
    "def create_boxplots(data, columns, ncols=2, figsize=(25, 6)):\n",
    "    nrows = (len(columns) + ncols - 1) // ncols\n",
    "    fig, axes = plt.subplots(nrows=nrows, ncols=ncols, figsize=figsize)\n",
    "    axes = axes.flatten() if nrows > 1 else axes\n",
    "    for i, col in enumerate(columns):\n",
    "        sns.boxplot(y=data[col], ax=axes[i])\n",
    "        axes[i].set_title(col)\n",
    "    for j in range(len(columns), len(axes)):\n",
    "        axes[j].axis('off')\n",
    "    plt.tight_layout()\n",
    "    plt.show()\n",
    "\n",
    "\n",
    "def create_histogram(data, column, figsize=(15, 4), color=\"g\", kde=False):\n",
    "    try:\n",
    "        plt.figure(figsize=figsize)\n",
    "        sns.histplot(data[column], kde=kde, color=color).set_title(f'{column[0]} Distribution', fontweight='bold')\n",
    "        plt.title(f\"{column[0]} Distribution\", fontweight='bold')\n",
    "        plt.show()\n",
    "    except Exception as error:\n",
    "        print(\"**\"*50)\n",
    "        print(\"ERROR TO CREATE THE HISTOGRAM: \", error)\n",
    "        print(\"**\"*50)\n",
    " \n",
    "###################################################################################################\n",
    "# Data Preprocessing - Helpers\n",
    "###################################################################################################\n",
    "def detect_outliers(data, columns):\n",
    "    outlier_info = {}\n",
    "    for col in columns:\n",
    "        Q1 = data[col].quantile(0.25)  # First quartile (25th percentile)\n",
    "        Q3 = data[col].quantile(0.75)  # Third quartile (75th percentile)\n",
    "        IQR = Q3 - Q1  # Interquartile range\n",
    "        lower_bound = Q1 - 1.5 * IQR\n",
    "        upper_bound = Q3 + 1.5 * IQR\n",
    "        outliers = data[(data[col] < lower_bound) | (data[col] > upper_bound)]\n",
    "        max_outlier = outliers[col].max() if not outliers.empty else None\n",
    "\n",
    "        outlier_info[col] = {\n",
    "            \"max_outlier_value\": max_outlier,\n",
    "            \"number_of_outliers\": outliers.shape[0],\n",
    "            \"lower_bound\": lower_bound,\n",
    "            \"upper_bound\": upper_bound,\n",
    "        }\n",
    "\n",
    "    return outlier_info"
   ]
  },
  {
   "cell_type": "code",
   "execution_count": 47,
   "id": "bf27f83e-c10f-4f7d-8b93-79776882b95a",
   "metadata": {},
   "outputs": [
    {
     "name": "stdout",
     "output_type": "stream",
     "text": [
      "++++++++++++++++++++++++++++++++++++++++++++++++++++++++++++++++++++++++++++++++++++++++++++++++++++\n",
      "DATASET INFO\n",
      "++++++++++++++++++++++++++++++++++++++++++++++++++++++++++++++++++++++++++++++++++++++++++++++++++++\n",
      "\n",
      "<class 'pandas.core.frame.DataFrame'>\n",
      "RangeIndex: 10 entries, 0 to 9\n",
      "Data columns (total 11 columns):\n",
      " #   Column              Non-Null Count  Dtype  \n",
      "---  ------              --------------  -----  \n",
      " 0   Timestamp           10 non-null     object \n",
      " 1   From Bank           10 non-null     int64  \n",
      " 2   Account             10 non-null     object \n",
      " 3   To Bank             10 non-null     int64  \n",
      " 4   Account.1           10 non-null     object \n",
      " 5   Amount Received     10 non-null     float64\n",
      " 6   Receiving Currency  10 non-null     object \n",
      " 7   Amount Paid         10 non-null     float64\n",
      " 8   Payment Currency    10 non-null     object \n",
      " 9   Payment Format      10 non-null     object \n",
      " 10  Is Laundering       10 non-null     int64  \n",
      "dtypes: float64(2), int64(3), object(6)\n",
      "memory usage: 1012.0+ bytes\n",
      "None\n",
      "++++++++++++++++++++++++++++++++++++++++++++++++++++++++++++++++++++++++++++++++++++++++++++++++++++\n",
      "DATASET LENGTH\n",
      "++++++++++++++++++++++++++++++++++++++++++++++++++++++++++++++++++++++++++++++++++++++++++++++++++++\n",
      "\n",
      "ROWS:  10\n",
      "COLUMNS:  11\n"
     ]
    }
   ],
   "source": [
    "# Check the dataset info\n",
    "print(format_title_output(\"DATASET INFO\"))\n",
    "print(df.info())\n",
    "\n",
    "print(format_title_output(\"DATASET LENGTH\"))\n",
    "print(\"ROWS: \", df.shape[0])\n",
    "print(\"COLUMNS: \", df.shape[1])"
   ]
  },
  {
   "cell_type": "code",
   "execution_count": 48,
   "id": "1d8d7e29-2a62-4402-9d8a-2e7317eff856",
   "metadata": {},
   "outputs": [
    {
     "name": "stdout",
     "output_type": "stream",
     "text": [
      "++++++++++++++++++++++++++++++++++++++++++++++++++++++++++++++++++++++++++++++++++++++++++++++++++++\n",
      "DATASET NEW COLUMNS\n",
      "++++++++++++++++++++++++++++++++++++++++++++++++++++++++++++++++++++++++++++++++++++++++++++++++++++\n",
      "\n",
      "0  :  timestamp\n",
      "1  :  from_bank\n",
      "2  :  account\n",
      "3  :  to_bank\n",
      "4  :  account.1\n",
      "5  :  amount_received\n",
      "6  :  receiving_currency\n",
      "7  :  amount_paid\n",
      "8  :  payment_currency\n",
      "9  :  payment_format\n",
      "10  :  is_laundering\n"
     ]
    }
   ],
   "source": [
    "# rename the columns with lowercase and _ underscore if there is a space\n",
    "print(format_title_output(\"DATASET NEW COLUMNS\"))\n",
    "\n",
    "df.columns = [col.lower().replace(\" \", \"_\") for col in df.columns]\n",
    "for i,j in enumerate(df.columns): \n",
    "    print(i, \" : \", j)"
   ]
  },
  {
   "cell_type": "code",
   "execution_count": 49,
   "id": "9360d225-238c-4a32-a636-278d068f5c26",
   "metadata": {},
   "outputs": [
    {
     "name": "stdout",
     "output_type": "stream",
     "text": [
      "++++++++++++++++++++++++++++++++++++++++++++++++++++++++++++++++++++++++++++++++++++++++++++++++++++\n",
      "AMOUNT CONSISTENCY - CREDIT & DEBIT\n",
      "++++++++++++++++++++++++++++++++++++++++++++++++++++++++++++++++++++++++++++++++++++++++++++++++++++\n",
      "\n",
      "Empty DataFrame\n",
      "Columns: [timestamp, from_bank, account, to_bank, account.1, amount_received, receiving_currency, amount_paid, payment_currency, payment_format, is_laundering]\n",
      "Index: []\n",
      "++++++++++++++++++++++++++++++++++++++++++++++++++++++++++++++++++++++++++++++++++++++++++++++++++++\n",
      "CURRENCY CONSISTENCY - CREDIT & DEBIT\n",
      "++++++++++++++++++++++++++++++++++++++++++++++++++++++++++++++++++++++++++++++++++++++++++++++++++++\n",
      "\n",
      "Empty DataFrame\n",
      "Columns: [timestamp, from_bank, account, to_bank, account.1, amount_received, receiving_currency, amount_paid, payment_currency, payment_format, is_laundering]\n",
      "Index: []\n"
     ]
    }
   ],
   "source": [
    "amount_consistency = df.loc[~(df['amount_received'] == df['amount_paid'])]\n",
    "ccy_consistency = df.loc[~(df['receiving_currency'] == df['payment_currency'])]\n",
    "\n",
    "print(format_title_output(\"AMOUNT CONSISTENCY - CREDIT & DEBIT\"))\n",
    "print(amount_consistency)\n",
    "\n",
    "print(format_title_output(\"CURRENCY CONSISTENCY - CREDIT & DEBIT\"))\n",
    "print(ccy_consistency)"
   ]
  },
  {
   "cell_type": "code",
   "execution_count": 50,
   "id": "933d871b-08eb-4524-b6b9-61fd7ac6f6c0",
   "metadata": {},
   "outputs": [
    {
     "name": "stdout",
     "output_type": "stream",
     "text": [
      "++++++++++++++++++++++++++++++++++++++++++++++++++++++++++++++++++++++++++++++++++++++++++++++++++++\n",
      "RECEIVED CURRENCY\n",
      "++++++++++++++++++++++++++++++++++++++++++++++++++++++++++++++++++++++++++++++++++++++++++++++++++++\n",
      "['US Dollar']\n",
      "\n",
      "\n",
      "\n",
      "++++++++++++++++++++++++++++++++++++++++++++++++++++++++++++++++++++++++++++++++++++++++++++++++++++\n",
      "PAYMENT CURRENCY\n",
      "++++++++++++++++++++++++++++++++++++++++++++++++++++++++++++++++++++++++++++++++++++++++++++++++++++\n",
      "['US Dollar']\n"
     ]
    }
   ],
   "source": [
    "#Check the currency \n",
    "\n",
    "print(\"++\"*50)\n",
    "print(\"RECEIVED CURRENCY\")\n",
    "print(\"++\"*50)\n",
    "print(sorted(df['receiving_currency'].unique()))\n",
    "print(\"\\n\\n\")\n",
    "\n",
    "print(\"++\"*50)\n",
    "print(\"PAYMENT CURRENCY\")\n",
    "print(\"++\"*50)\n",
    "print(sorted(df['payment_currency'].unique()))"
   ]
  },
  {
   "cell_type": "code",
   "execution_count": 51,
   "id": "f3aa3576-67a4-44e1-8bde-cf893d826ed4",
   "metadata": {},
   "outputs": [
    {
     "data": {
      "image/png": "[encoded data removed]",
      "text/plain": [
       "<Figure size 1500x500 with 1 Axes>"
      ]
     },
     "metadata": {},
     "output_type": "display_data"
    }
   ],
   "source": [
    "create_null_data_heatmap(\"NULL DATA\", 'vertical', df)"
   ]
  },
  {
   "cell_type": "code",
   "execution_count": 52,
   "id": "a88b3065-a7b2-484c-80df-2fd9434b033c",
   "metadata": {},
   "outputs": [
    {
     "data": {
      "image/png": "[encoded data removed]",
      "text/plain": [
       "<Figure size 2500x600 with 2 Axes>"
      ]
     },
     "metadata": {},
     "output_type": "display_data"
    }
   ],
   "source": [
    "create_boxplots(\n",
    "    df,\n",
    "    ['amount_received', 'amount_paid'],\n",
    "    2\n",
    ")"
   ]
  },
  {
   "cell_type": "code",
   "execution_count": 53,
   "id": "7b670e2d-b2a8-4003-bb7b-f6d4cf6d48c1",
   "metadata": {},
   "outputs": [
    {
     "name": "stdout",
     "output_type": "stream",
     "text": [
      "++++++++++++++++++++++++++++++++++++++++++++++++++++++++++++++++++++++++++++++++++++++++++++++++++++\n",
      "OUTLIERS DETECTION - AMOUNT RECEIVED & PAID\n",
      "++++++++++++++++++++++++++++++++++++++++++++++++++++++++++++++++++++++++++++++++++++++++++++++++++++\n",
      "\n",
      "{\n",
      "    \"amount_received\": {\n",
      "        \"max_outlier_value\": 36682.97,\n",
      "        \"number_of_outliers\": 2,\n",
      "        \"lower_bound\": -8288.0975,\n",
      "        \"upper_bound\": 13846.7225\n",
      "    },\n",
      "    \"amount_paid\": {\n",
      "        \"max_outlier_value\": 36682.97,\n",
      "        \"number_of_outliers\": 2,\n",
      "        \"lower_bound\": -8288.0975,\n",
      "        \"upper_bound\": 13846.7225\n",
      "    }\n",
      "}\n"
     ]
    }
   ],
   "source": [
    "outliers = detect_outliers(\n",
    "    df,\n",
    "    ['amount_received', 'amount_paid'],\n",
    ")\n",
    "print(format_title_output(\"OUTLIERS DETECTION - AMOUNT RECEIVED & PAID\"))\n",
    "print(json.dumps(outliers, indent=4))"
   ]
  },
  {
   "cell_type": "code",
   "execution_count": 54,
   "id": "0661f1e0-ae87-4106-8e16-a7e4eb733fe1",
   "metadata": {},
   "outputs": [
    {
     "data": {
      "image/png": "[encoded data removed]",
      "text/plain": [
       "<Figure size 1500x400 with 1 Axes>"
      ]
     },
     "metadata": {},
     "output_type": "display_data"
    }
   ],
   "source": [
    "create_histogram(\n",
    "     df,\n",
    "    ['amount_received'],\n",
    ")"
   ]
  },
  {
   "cell_type": "markdown",
   "id": "df32d00d-be87-46f1-8954-a09cbb79113d",
   "metadata": {},
   "source": [
    "### Data Preprocessing"
   ]
  },
  {
   "cell_type": "code",
   "execution_count": 57,
   "id": "8c2790d1-f2fe-47fd-869f-e6a88c1c2361",
   "metadata": {},
   "outputs": [],
   "source": [
    "class DataPreprocessor:\n",
    "    def __init__(self, df):\n",
    "        self.df = df\n",
    "\n",
    "    def df_label_encoder(self, columns):\n",
    "        le = preprocessing.LabelEncoder()\n",
    "        for col in columns:\n",
    "            if col in self.df.columns:\n",
    "                self.df[col] = le.fit_transform(self.df[col].astype(str))\n",
    "        return self.df\n",
    "\n",
    "    def preprocess_dataset(self):\n",
    "        # Apply label encoding to the specified columns\n",
    "        self.df = self.df_label_encoder(['payment_format', 'payment_currency', 'receiving_currency'])\n",
    "        \n",
    "        # Check if the 'Timestamp' column exists before processing\n",
    "        if 'timestamp' in self.df.columns:\n",
    "            # Normalize the Timestamp column\n",
    "            self.df['timestamp'] = pd.to_datetime(self.df['timestamp'])\n",
    "            self.df['timestamp'] = self.df['timestamp'].apply(lambda x: x.value)\n",
    "            self.df['timestamp'] = (self.df['timestamp'] - self.df['timestamp'].min()) / \\\n",
    "                                   (self.df['timestamp'].max() - self.df['timestamp'].min())\n",
    "        else:\n",
    "            raise KeyError(\"'Timestamp' column is missing from the DataFrame\")\n",
    "\n",
    "        # Concatenate account information\n",
    "        self.df['account'] = self.df['from_bank'].astype(str) + '_' + self.df['account']\n",
    "        self.df['account.1'] = self.df['to_bank'].astype(str) + '_' + self.df['account.1']\n",
    "        # Sort by Account column\n",
    "        self.df = self.df.sort_values(by=['Account'])\n",
    "        # Create the receiving and paying dataframes\n",
    "        receiving_df = self.df[['account.1', 'amount_received', 'receiving_currency']]\n",
    "        paying_df = self.df[['account', 'amount_paid', 'payment_currency']]\n",
    "        # Rename Account.1 to Account in receiving_df\n",
    "        receiving_df = receiving_df.rename({'account.1': 'account'}, axis=1)\n",
    "        # Get sorted list of unique currencies\n",
    "        currency_ls = sorted(self.df['receiving_currency'].unique())\n",
    "        return self.df, receiving_df, paying_df, currency_ls\n"
   ]
  },
  {
   "cell_type": "code",
   "execution_count": 58,
   "id": "c84654d1-c863-4b95-90d5-5d0133eef73d",
   "metadata": {},
   "outputs": [
    {
     "name": "stdout",
     "output_type": "stream",
     "text": [
      "++++++++++++++++++++++++++++++++++++++++++++++++++++++++++++++++++++++++++++++++++++++++++++++++++++\n",
      "DATA PROCESSING CLASS\n",
      "++++++++++++++++++++++++++++++++++++++++++++++++++++++++++++++++++++++++++++++++++++++++++++++++++++\n",
      "\n",
      "<__main__.DataPreprocessor object at 0x14ee73f90>\n"
     ]
    }
   ],
   "source": [
    "data_preprocessor = DataPreprocessor(df)\n",
    "print(format_title_output(\"DATA PROCESSING CLASS\"))\n",
    "print(data_preprocessor)"
   ]
  },
  {
   "cell_type": "code",
   "execution_count": 59,
   "id": "65558620-c4ae-4598-9728-68ebde3be626",
   "metadata": {},
   "outputs": [
    {
     "data": {
      "text/html": [
       "<div>\n",
       "<style scoped>\n",
       "    .dataframe tbody tr th:only-of-type {\n",
       "        vertical-align: middle;\n",
       "    }\n",
       "\n",
       "    .dataframe tbody tr th {\n",
       "        vertical-align: top;\n",
       "    }\n",
       "\n",
       "    .dataframe thead th {\n",
       "        text-align: right;\n",
       "    }\n",
       "</style>\n",
       "<table border=\"1\" class=\"dataframe\">\n",
       "  <thead>\n",
       "    <tr style=\"text-align: right;\">\n",
       "      <th></th>\n",
       "      <th>timestamp</th>\n",
       "      <th>from_bank</th>\n",
       "      <th>account</th>\n",
       "      <th>to_bank</th>\n",
       "      <th>account.1</th>\n",
       "      <th>amount_received</th>\n",
       "      <th>receiving_currency</th>\n",
       "      <th>amount_paid</th>\n",
       "      <th>payment_currency</th>\n",
       "      <th>payment_format</th>\n",
       "      <th>is_laundering</th>\n",
       "    </tr>\n",
       "  </thead>\n",
       "  <tbody>\n",
       "    <tr>\n",
       "      <th>0</th>\n",
       "      <td>2022/09/01 00:20</td>\n",
       "      <td>10</td>\n",
       "      <td>8000EBD30</td>\n",
       "      <td>10</td>\n",
       "      <td>8000EBD30</td>\n",
       "      <td>3697.34</td>\n",
       "      <td>US Dollar</td>\n",
       "      <td>3697.34</td>\n",
       "      <td>US Dollar</td>\n",
       "      <td>Reinvestment</td>\n",
       "      <td>0</td>\n",
       "    </tr>\n",
       "    <tr>\n",
       "      <th>1</th>\n",
       "      <td>2022/09/01 00:20</td>\n",
       "      <td>3208</td>\n",
       "      <td>8000F4580</td>\n",
       "      <td>1</td>\n",
       "      <td>8000F5340</td>\n",
       "      <td>0.01</td>\n",
       "      <td>US Dollar</td>\n",
       "      <td>0.01</td>\n",
       "      <td>US Dollar</td>\n",
       "      <td>Cheque</td>\n",
       "      <td>0</td>\n",
       "    </tr>\n",
       "    <tr>\n",
       "      <th>2</th>\n",
       "      <td>2022/09/01 00:00</td>\n",
       "      <td>3209</td>\n",
       "      <td>8000F4670</td>\n",
       "      <td>3209</td>\n",
       "      <td>8000F4670</td>\n",
       "      <td>14675.57</td>\n",
       "      <td>US Dollar</td>\n",
       "      <td>14675.57</td>\n",
       "      <td>US Dollar</td>\n",
       "      <td>Reinvestment</td>\n",
       "      <td>0</td>\n",
       "    </tr>\n",
       "    <tr>\n",
       "      <th>3</th>\n",
       "      <td>2022/09/01 00:02</td>\n",
       "      <td>12</td>\n",
       "      <td>8000F5030</td>\n",
       "      <td>12</td>\n",
       "      <td>8000F5030</td>\n",
       "      <td>2806.97</td>\n",
       "      <td>US Dollar</td>\n",
       "      <td>2806.97</td>\n",
       "      <td>US Dollar</td>\n",
       "      <td>Reinvestment</td>\n",
       "      <td>0</td>\n",
       "    </tr>\n",
       "    <tr>\n",
       "      <th>4</th>\n",
       "      <td>2022/09/01 00:06</td>\n",
       "      <td>10</td>\n",
       "      <td>8000F5200</td>\n",
       "      <td>10</td>\n",
       "      <td>8000F5200</td>\n",
       "      <td>36682.97</td>\n",
       "      <td>US Dollar</td>\n",
       "      <td>36682.97</td>\n",
       "      <td>US Dollar</td>\n",
       "      <td>Reinvestment</td>\n",
       "      <td>0</td>\n",
       "    </tr>\n",
       "    <tr>\n",
       "      <th>5</th>\n",
       "      <td>2022/09/01 00:03</td>\n",
       "      <td>1</td>\n",
       "      <td>8000F5AD0</td>\n",
       "      <td>1</td>\n",
       "      <td>8000F5AD0</td>\n",
       "      <td>6162.44</td>\n",
       "      <td>US Dollar</td>\n",
       "      <td>6162.44</td>\n",
       "      <td>US Dollar</td>\n",
       "      <td>Reinvestment</td>\n",
       "      <td>0</td>\n",
       "    </tr>\n",
       "    <tr>\n",
       "      <th>6</th>\n",
       "      <td>2022/09/01 00:08</td>\n",
       "      <td>1</td>\n",
       "      <td>8000EBAC0</td>\n",
       "      <td>1</td>\n",
       "      <td>8000EBAC0</td>\n",
       "      <td>14.26</td>\n",
       "      <td>US Dollar</td>\n",
       "      <td>14.26</td>\n",
       "      <td>US Dollar</td>\n",
       "      <td>Reinvestment</td>\n",
       "      <td>0</td>\n",
       "    </tr>\n",
       "    <tr>\n",
       "      <th>7</th>\n",
       "      <td>2022/09/01 00:16</td>\n",
       "      <td>1</td>\n",
       "      <td>8000EC1E0</td>\n",
       "      <td>1</td>\n",
       "      <td>8000EC1E0</td>\n",
       "      <td>11.86</td>\n",
       "      <td>US Dollar</td>\n",
       "      <td>11.86</td>\n",
       "      <td>US Dollar</td>\n",
       "      <td>Reinvestment</td>\n",
       "      <td>0</td>\n",
       "    </tr>\n",
       "    <tr>\n",
       "      <th>8</th>\n",
       "      <td>2022/09/01 00:26</td>\n",
       "      <td>12</td>\n",
       "      <td>8000EC280</td>\n",
       "      <td>2439</td>\n",
       "      <td>8017BF800</td>\n",
       "      <td>7.66</td>\n",
       "      <td>US Dollar</td>\n",
       "      <td>7.66</td>\n",
       "      <td>US Dollar</td>\n",
       "      <td>Credit Card</td>\n",
       "      <td>0</td>\n",
       "    </tr>\n",
       "    <tr>\n",
       "      <th>9</th>\n",
       "      <td>2022/09/01 00:21</td>\n",
       "      <td>1</td>\n",
       "      <td>8000EDEC0</td>\n",
       "      <td>211050</td>\n",
       "      <td>80AEF5310</td>\n",
       "      <td>383.71</td>\n",
       "      <td>US Dollar</td>\n",
       "      <td>383.71</td>\n",
       "      <td>US Dollar</td>\n",
       "      <td>Credit Card</td>\n",
       "      <td>0</td>\n",
       "    </tr>\n",
       "  </tbody>\n",
       "</table>\n",
       "</div>"
      ],
      "text/plain": [
       "          timestamp  from_bank    account  to_bank  account.1  \\\n",
       "0  2022/09/01 00:20         10  8000EBD30       10  8000EBD30   \n",
       "1  2022/09/01 00:20       3208  8000F4580        1  8000F5340   \n",
       "2  2022/09/01 00:00       3209  8000F4670     3209  8000F4670   \n",
       "3  2022/09/01 00:02         12  8000F5030       12  8000F5030   \n",
       "4  2022/09/01 00:06         10  8000F5200       10  8000F5200   \n",
       "5  2022/09/01 00:03          1  8000F5AD0        1  8000F5AD0   \n",
       "6  2022/09/01 00:08          1  8000EBAC0        1  8000EBAC0   \n",
       "7  2022/09/01 00:16          1  8000EC1E0        1  8000EC1E0   \n",
       "8  2022/09/01 00:26         12  8000EC280     2439  8017BF800   \n",
       "9  2022/09/01 00:21          1  8000EDEC0   211050  80AEF5310   \n",
       "\n",
       "   amount_received receiving_currency  amount_paid payment_currency  \\\n",
       "0          3697.34          US Dollar      3697.34        US Dollar   \n",
       "1             0.01          US Dollar         0.01        US Dollar   \n",
       "2         14675.57          US Dollar     14675.57        US Dollar   \n",
       "3          2806.97          US Dollar      2806.97        US Dollar   \n",
       "4         36682.97          US Dollar     36682.97        US Dollar   \n",
       "5          6162.44          US Dollar      6162.44        US Dollar   \n",
       "6            14.26          US Dollar        14.26        US Dollar   \n",
       "7            11.86          US Dollar        11.86        US Dollar   \n",
       "8             7.66          US Dollar         7.66        US Dollar   \n",
       "9           383.71          US Dollar       383.71        US Dollar   \n",
       "\n",
       "  payment_format  is_laundering  \n",
       "0   Reinvestment              0  \n",
       "1         Cheque              0  \n",
       "2   Reinvestment              0  \n",
       "3   Reinvestment              0  \n",
       "4   Reinvestment              0  \n",
       "5   Reinvestment              0  \n",
       "6   Reinvestment              0  \n",
       "7   Reinvestment              0  \n",
       "8    Credit Card              0  \n",
       "9    Credit Card              0  "
      ]
     },
     "execution_count": 59,
     "metadata": {},
     "output_type": "execute_result"
    }
   ],
   "source": [
    "df"
   ]
  },
  {
   "cell_type": "code",
   "execution_count": 60,
   "id": "dc5907f4-addd-49e0-a8b3-0c2a5dde08c2",
   "metadata": {},
   "outputs": [
    {
     "ename": "KeyError",
     "evalue": "'Account'",
     "output_type": "error",
     "traceback": [
      "\u001b[0;31m---------------------------------------------------------------------------\u001b[0m",
      "\u001b[0;31mKeyError\u001b[0m                                  Traceback (most recent call last)",
      "\u001b[0;32m/var/folders/01/7ybw9bd52732wb3f_qczmz0r0000gn/T/ipykernel_46087/1162035937.py\u001b[0m in \u001b[0;36m?\u001b[0;34m()\u001b[0m\n\u001b[0;32m----> 1\u001b[0;31m \u001b[0mdf\u001b[0m\u001b[0;34m,\u001b[0m \u001b[0mreceiving_df\u001b[0m\u001b[0;34m,\u001b[0m \u001b[0mpaying_df\u001b[0m\u001b[0;34m,\u001b[0m \u001b[0mcurrency_ls\u001b[0m \u001b[0;34m=\u001b[0m \u001b[0mdata_preprocessor\u001b[0m\u001b[0;34m.\u001b[0m\u001b[0mpreprocess_dataset\u001b[0m\u001b[0;34m(\u001b[0m\u001b[0;34m)\u001b[0m\u001b[0;34m\u001b[0m\u001b[0;34m\u001b[0m\u001b[0m\n\u001b[0m\u001b[1;32m      2\u001b[0m \u001b[0mprint\u001b[0m\u001b[0;34m(\u001b[0m\u001b[0mdf\u001b[0m\u001b[0;34m.\u001b[0m\u001b[0mhead\u001b[0m\u001b[0;34m(\u001b[0m\u001b[0;34m)\u001b[0m\u001b[0;34m)\u001b[0m\u001b[0;34m\u001b[0m\u001b[0;34m\u001b[0m\u001b[0m\n",
      "\u001b[0;32m/var/folders/01/7ybw9bd52732wb3f_qczmz0r0000gn/T/ipykernel_46087/4016085334.py\u001b[0m in \u001b[0;36m?\u001b[0;34m(self)\u001b[0m\n\u001b[1;32m     26\u001b[0m         \u001b[0;31m# Concatenate account information\u001b[0m\u001b[0;34m\u001b[0m\u001b[0;34m\u001b[0m\u001b[0m\n\u001b[1;32m     27\u001b[0m         \u001b[0mself\u001b[0m\u001b[0;34m.\u001b[0m\u001b[0mdf\u001b[0m\u001b[0;34m[\u001b[0m\u001b[0;34m'account'\u001b[0m\u001b[0;34m]\u001b[0m \u001b[0;34m=\u001b[0m \u001b[0mself\u001b[0m\u001b[0;34m.\u001b[0m\u001b[0mdf\u001b[0m\u001b[0;34m[\u001b[0m\u001b[0;34m'from_bank'\u001b[0m\u001b[0;34m]\u001b[0m\u001b[0;34m.\u001b[0m\u001b[0mastype\u001b[0m\u001b[0;34m(\u001b[0m\u001b[0mstr\u001b[0m\u001b[0;34m)\u001b[0m \u001b[0;34m+\u001b[0m \u001b[0;34m'_'\u001b[0m \u001b[0;34m+\u001b[0m \u001b[0mself\u001b[0m\u001b[0;34m.\u001b[0m\u001b[0mdf\u001b[0m\u001b[0;34m[\u001b[0m\u001b[0;34m'account'\u001b[0m\u001b[0;34m]\u001b[0m\u001b[0;34m\u001b[0m\u001b[0;34m\u001b[0m\u001b[0m\n\u001b[1;32m     28\u001b[0m         \u001b[0mself\u001b[0m\u001b[0;34m.\u001b[0m\u001b[0mdf\u001b[0m\u001b[0;34m[\u001b[0m\u001b[0;34m'account.1'\u001b[0m\u001b[0;34m]\u001b[0m \u001b[0;34m=\u001b[0m \u001b[0mself\u001b[0m\u001b[0;34m.\u001b[0m\u001b[0mdf\u001b[0m\u001b[0;34m[\u001b[0m\u001b[0;34m'to_bank'\u001b[0m\u001b[0;34m]\u001b[0m\u001b[0;34m.\u001b[0m\u001b[0mastype\u001b[0m\u001b[0;34m(\u001b[0m\u001b[0mstr\u001b[0m\u001b[0;34m)\u001b[0m \u001b[0;34m+\u001b[0m \u001b[0;34m'_'\u001b[0m \u001b[0;34m+\u001b[0m \u001b[0mself\u001b[0m\u001b[0;34m.\u001b[0m\u001b[0mdf\u001b[0m\u001b[0;34m[\u001b[0m\u001b[0;34m'account.1'\u001b[0m\u001b[0;34m]\u001b[0m\u001b[0;34m\u001b[0m\u001b[0;34m\u001b[0m\u001b[0m\n\u001b[1;32m     29\u001b[0m         \u001b[0;31m# Sort by Account column\u001b[0m\u001b[0;34m\u001b[0m\u001b[0;34m\u001b[0m\u001b[0m\n\u001b[0;32m---> 30\u001b[0;31m         \u001b[0mself\u001b[0m\u001b[0;34m.\u001b[0m\u001b[0mdf\u001b[0m \u001b[0;34m=\u001b[0m \u001b[0mself\u001b[0m\u001b[0;34m.\u001b[0m\u001b[0mdf\u001b[0m\u001b[0;34m.\u001b[0m\u001b[0msort_values\u001b[0m\u001b[0;34m(\u001b[0m\u001b[0mby\u001b[0m\u001b[0;34m=\u001b[0m\u001b[0;34m[\u001b[0m\u001b[0;34m'Account'\u001b[0m\u001b[0;34m]\u001b[0m\u001b[0;34m)\u001b[0m\u001b[0;34m\u001b[0m\u001b[0;34m\u001b[0m\u001b[0m\n\u001b[0m\u001b[1;32m     31\u001b[0m         \u001b[0;31m# Create the receiving and paying dataframes\u001b[0m\u001b[0;34m\u001b[0m\u001b[0;34m\u001b[0m\u001b[0m\n\u001b[1;32m     32\u001b[0m         \u001b[0mreceiving_df\u001b[0m \u001b[0;34m=\u001b[0m \u001b[0mself\u001b[0m\u001b[0;34m.\u001b[0m\u001b[0mdf\u001b[0m\u001b[0;34m[\u001b[0m\u001b[0;34m[\u001b[0m\u001b[0;34m'account.1'\u001b[0m\u001b[0;34m,\u001b[0m \u001b[0;34m'amount_received'\u001b[0m\u001b[0;34m,\u001b[0m \u001b[0;34m'receiving_currency'\u001b[0m\u001b[0;34m]\u001b[0m\u001b[0;34m]\u001b[0m\u001b[0;34m\u001b[0m\u001b[0;34m\u001b[0m\u001b[0m\n\u001b[1;32m     33\u001b[0m         \u001b[0mpaying_df\u001b[0m \u001b[0;34m=\u001b[0m \u001b[0mself\u001b[0m\u001b[0;34m.\u001b[0m\u001b[0mdf\u001b[0m\u001b[0;34m[\u001b[0m\u001b[0;34m[\u001b[0m\u001b[0;34m'account'\u001b[0m\u001b[0;34m,\u001b[0m \u001b[0;34m'amount_paid'\u001b[0m\u001b[0;34m,\u001b[0m \u001b[0;34m'payment_currency'\u001b[0m\u001b[0;34m]\u001b[0m\u001b[0;34m]\u001b[0m\u001b[0;34m\u001b[0m\u001b[0;34m\u001b[0m\u001b[0m\n",
      "\u001b[0;32m~/Documents/MIS/Semester_III/MIS613_MachineLearningForDataAnalysis/Final_Project/Coding/Applied-Machine-Learning-Techniques-for-Graph-Based-Anomaly-Transaction-Detection-in-Mobile-Banking/model_dev/.venv/lib/python3.11/site-packages/pandas/core/frame.py\u001b[0m in \u001b[0;36m?\u001b[0;34m(self, by, axis, ascending, inplace, kind, na_position, ignore_index, key)\u001b[0m\n\u001b[1;32m   7185\u001b[0m             )\n\u001b[1;32m   7186\u001b[0m         \u001b[0;32melif\u001b[0m \u001b[0mlen\u001b[0m\u001b[0;34m(\u001b[0m\u001b[0mby\u001b[0m\u001b[0;34m)\u001b[0m\u001b[0;34m:\u001b[0m\u001b[0;34m\u001b[0m\u001b[0;34m\u001b[0m\u001b[0m\n\u001b[1;32m   7187\u001b[0m             \u001b[0;31m# len(by) == 1\u001b[0m\u001b[0;34m\u001b[0m\u001b[0;34m\u001b[0m\u001b[0m\n\u001b[1;32m   7188\u001b[0m \u001b[0;34m\u001b[0m\u001b[0m\n\u001b[0;32m-> 7189\u001b[0;31m             \u001b[0mk\u001b[0m \u001b[0;34m=\u001b[0m \u001b[0mself\u001b[0m\u001b[0;34m.\u001b[0m\u001b[0m_get_label_or_level_values\u001b[0m\u001b[0;34m(\u001b[0m\u001b[0mby\u001b[0m\u001b[0;34m[\u001b[0m\u001b[0;36m0\u001b[0m\u001b[0;34m]\u001b[0m\u001b[0;34m,\u001b[0m \u001b[0maxis\u001b[0m\u001b[0;34m=\u001b[0m\u001b[0maxis\u001b[0m\u001b[0;34m)\u001b[0m\u001b[0;34m\u001b[0m\u001b[0;34m\u001b[0m\u001b[0m\n\u001b[0m\u001b[1;32m   7190\u001b[0m \u001b[0;34m\u001b[0m\u001b[0m\n\u001b[1;32m   7191\u001b[0m             \u001b[0;31m# need to rewrap column in Series to apply key function\u001b[0m\u001b[0;34m\u001b[0m\u001b[0;34m\u001b[0m\u001b[0m\n\u001b[1;32m   7192\u001b[0m             \u001b[0;32mif\u001b[0m \u001b[0mkey\u001b[0m \u001b[0;32mis\u001b[0m \u001b[0;32mnot\u001b[0m \u001b[0;32mNone\u001b[0m\u001b[0;34m:\u001b[0m\u001b[0;34m\u001b[0m\u001b[0;34m\u001b[0m\u001b[0m\n",
      "\u001b[0;32m~/Documents/MIS/Semester_III/MIS613_MachineLearningForDataAnalysis/Final_Project/Coding/Applied-Machine-Learning-Techniques-for-Graph-Based-Anomaly-Transaction-Detection-in-Mobile-Banking/model_dev/.venv/lib/python3.11/site-packages/pandas/core/generic.py\u001b[0m in \u001b[0;36m?\u001b[0;34m(self, key, axis)\u001b[0m\n\u001b[1;32m   1907\u001b[0m             \u001b[0mvalues\u001b[0m \u001b[0;34m=\u001b[0m \u001b[0mself\u001b[0m\u001b[0;34m.\u001b[0m\u001b[0mxs\u001b[0m\u001b[0;34m(\u001b[0m\u001b[0mkey\u001b[0m\u001b[0;34m,\u001b[0m \u001b[0maxis\u001b[0m\u001b[0;34m=\u001b[0m\u001b[0mother_axes\u001b[0m\u001b[0;34m[\u001b[0m\u001b[0;36m0\u001b[0m\u001b[0;34m]\u001b[0m\u001b[0;34m)\u001b[0m\u001b[0;34m.\u001b[0m\u001b[0m_values\u001b[0m\u001b[0;34m\u001b[0m\u001b[0;34m\u001b[0m\u001b[0m\n\u001b[1;32m   1908\u001b[0m         \u001b[0;32melif\u001b[0m \u001b[0mself\u001b[0m\u001b[0;34m.\u001b[0m\u001b[0m_is_level_reference\u001b[0m\u001b[0;34m(\u001b[0m\u001b[0mkey\u001b[0m\u001b[0;34m,\u001b[0m \u001b[0maxis\u001b[0m\u001b[0;34m=\u001b[0m\u001b[0maxis\u001b[0m\u001b[0;34m)\u001b[0m\u001b[0;34m:\u001b[0m\u001b[0;34m\u001b[0m\u001b[0;34m\u001b[0m\u001b[0m\n\u001b[1;32m   1909\u001b[0m             \u001b[0mvalues\u001b[0m \u001b[0;34m=\u001b[0m \u001b[0mself\u001b[0m\u001b[0;34m.\u001b[0m\u001b[0maxes\u001b[0m\u001b[0;34m[\u001b[0m\u001b[0maxis\u001b[0m\u001b[0;34m]\u001b[0m\u001b[0;34m.\u001b[0m\u001b[0mget_level_values\u001b[0m\u001b[0;34m(\u001b[0m\u001b[0mkey\u001b[0m\u001b[0;34m)\u001b[0m\u001b[0;34m.\u001b[0m\u001b[0m_values\u001b[0m\u001b[0;34m\u001b[0m\u001b[0;34m\u001b[0m\u001b[0m\n\u001b[1;32m   1910\u001b[0m         \u001b[0;32melse\u001b[0m\u001b[0;34m:\u001b[0m\u001b[0;34m\u001b[0m\u001b[0;34m\u001b[0m\u001b[0m\n\u001b[0;32m-> 1911\u001b[0;31m             \u001b[0;32mraise\u001b[0m \u001b[0mKeyError\u001b[0m\u001b[0;34m(\u001b[0m\u001b[0mkey\u001b[0m\u001b[0;34m)\u001b[0m\u001b[0;34m\u001b[0m\u001b[0;34m\u001b[0m\u001b[0m\n\u001b[0m\u001b[1;32m   1912\u001b[0m \u001b[0;34m\u001b[0m\u001b[0m\n\u001b[1;32m   1913\u001b[0m         \u001b[0;31m# Check for duplicates\u001b[0m\u001b[0;34m\u001b[0m\u001b[0;34m\u001b[0m\u001b[0m\n\u001b[1;32m   1914\u001b[0m         \u001b[0;32mif\u001b[0m \u001b[0mvalues\u001b[0m\u001b[0;34m.\u001b[0m\u001b[0mndim\u001b[0m \u001b[0;34m>\u001b[0m \u001b[0;36m1\u001b[0m\u001b[0;34m:\u001b[0m\u001b[0;34m\u001b[0m\u001b[0;34m\u001b[0m\u001b[0m\n",
      "\u001b[0;31mKeyError\u001b[0m: 'Account'"
     ]
    }
   ],
   "source": [
    "df, receiving_df, paying_df, currency_ls = data_preprocessor.preprocess_dataset()\n",
    "print(df.head())"
   ]
  },
  {
   "cell_type": "code",
   "execution_count": null,
   "id": "c4aa0ba5-397a-4a17-b1da-5bab11820492",
   "metadata": {},
   "outputs": [],
   "source": []
  }
 ],
 "metadata": {
  "kernelspec": {
   "display_name": "Python 3 (ipykernel)",
   "language": "python",
   "name": "python3"
  },
  "language_info": {
   "codemirror_mode": {
    "name": "ipython",
    "version": 3
   },
   "file_extension": ".py",
   "mimetype": "text/x-python",
   "name": "python",
   "nbconvert_exporter": "python",
   "pygments_lexer": "ipython3",
   "version": "3.11.5"
  }
 },
 "nbformat": 4,
 "nbformat_minor": 5
}
